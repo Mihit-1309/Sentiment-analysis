{
 "cells": [
  {
   "cell_type": "code",
   "execution_count": 1,
   "id": "8455f69a-0f0e-4639-925d-fa25fbd8ad27",
   "metadata": {},
   "outputs": [],
   "source": [
    "import pandas as pd\n",
    "import numpy as np\n",
    "import matplotlib.pyplot as plt\n",
    "from sklearn import metrics"
   ]
  },
  {
   "cell_type": "code",
   "execution_count": 2,
   "id": "f8d86e2e-900b-4406-b193-63c53d9ef8ff",
   "metadata": {},
   "outputs": [
    {
     "data": {
      "text/html": [
       "<div>\n",
       "<style scoped>\n",
       "    .dataframe tbody tr th:only-of-type {\n",
       "        vertical-align: middle;\n",
       "    }\n",
       "\n",
       "    .dataframe tbody tr th {\n",
       "        vertical-align: top;\n",
       "    }\n",
       "\n",
       "    .dataframe thead th {\n",
       "        text-align: right;\n",
       "    }\n",
       "</style>\n",
       "<table border=\"1\" class=\"dataframe\">\n",
       "  <thead>\n",
       "    <tr style=\"text-align: right;\">\n",
       "      <th></th>\n",
       "      <th>Sentence</th>\n",
       "      <th>Sentiment</th>\n",
       "    </tr>\n",
       "  </thead>\n",
       "  <tbody>\n",
       "    <tr>\n",
       "      <th>0</th>\n",
       "      <td>The GeoSolutions technology will leverage Bene...</td>\n",
       "      <td>positive</td>\n",
       "    </tr>\n",
       "    <tr>\n",
       "      <th>1</th>\n",
       "      <td>$ESI on lows, down $1.50 to $2.50 BK a real po...</td>\n",
       "      <td>negative</td>\n",
       "    </tr>\n",
       "    <tr>\n",
       "      <th>2</th>\n",
       "      <td>For the last quarter of 2010 , Componenta 's n...</td>\n",
       "      <td>positive</td>\n",
       "    </tr>\n",
       "    <tr>\n",
       "      <th>3</th>\n",
       "      <td>According to the Finnish-Russian Chamber of Co...</td>\n",
       "      <td>neutral</td>\n",
       "    </tr>\n",
       "    <tr>\n",
       "      <th>4</th>\n",
       "      <td>The Swedish buyout firm has sold its remaining...</td>\n",
       "      <td>neutral</td>\n",
       "    </tr>\n",
       "    <tr>\n",
       "      <th>...</th>\n",
       "      <td>...</td>\n",
       "      <td>...</td>\n",
       "    </tr>\n",
       "    <tr>\n",
       "      <th>5837</th>\n",
       "      <td>RISING costs have forced packaging producer Hu...</td>\n",
       "      <td>negative</td>\n",
       "    </tr>\n",
       "    <tr>\n",
       "      <th>5838</th>\n",
       "      <td>Nordic Walking was first used as a summer trai...</td>\n",
       "      <td>neutral</td>\n",
       "    </tr>\n",
       "    <tr>\n",
       "      <th>5839</th>\n",
       "      <td>According shipping company Viking Line , the E...</td>\n",
       "      <td>neutral</td>\n",
       "    </tr>\n",
       "    <tr>\n",
       "      <th>5840</th>\n",
       "      <td>In the building and home improvement trade , s...</td>\n",
       "      <td>neutral</td>\n",
       "    </tr>\n",
       "    <tr>\n",
       "      <th>5841</th>\n",
       "      <td>HELSINKI AFX - KCI Konecranes said it has won ...</td>\n",
       "      <td>positive</td>\n",
       "    </tr>\n",
       "  </tbody>\n",
       "</table>\n",
       "<p>5842 rows × 2 columns</p>\n",
       "</div>"
      ],
      "text/plain": [
       "                                               Sentence Sentiment\n",
       "0     The GeoSolutions technology will leverage Bene...  positive\n",
       "1     $ESI on lows, down $1.50 to $2.50 BK a real po...  negative\n",
       "2     For the last quarter of 2010 , Componenta 's n...  positive\n",
       "3     According to the Finnish-Russian Chamber of Co...   neutral\n",
       "4     The Swedish buyout firm has sold its remaining...   neutral\n",
       "...                                                 ...       ...\n",
       "5837  RISING costs have forced packaging producer Hu...  negative\n",
       "5838  Nordic Walking was first used as a summer trai...   neutral\n",
       "5839  According shipping company Viking Line , the E...   neutral\n",
       "5840  In the building and home improvement trade , s...   neutral\n",
       "5841  HELSINKI AFX - KCI Konecranes said it has won ...  positive\n",
       "\n",
       "[5842 rows x 2 columns]"
      ]
     },
     "execution_count": 2,
     "metadata": {},
     "output_type": "execute_result"
    }
   ],
   "source": [
    "df = pd.read_csv('data.csv')\n",
    "df"
   ]
  },
  {
   "cell_type": "code",
   "execution_count": 3,
   "id": "71d1a4f4-b376-448c-a330-c681f18602af",
   "metadata": {},
   "outputs": [
    {
     "name": "stderr",
     "output_type": "stream",
     "text": [
      "C:\\Users\\Mihit\\AppData\\Local\\Temp\\ipykernel_21912\\4272873415.py:1: FutureWarning: Downcasting behavior in `replace` is deprecated and will be removed in a future version. To retain the old behavior, explicitly call `result.infer_objects(copy=False)`. To opt-in to the future behavior, set `pd.set_option('future.no_silent_downcasting', True)`\n",
      "  df['Sentiment'] = df['Sentiment'].replace({'neutral': 0, 'positive': 1,'negative':2})\n"
     ]
    },
    {
     "data": {
      "text/plain": [
       "0       1\n",
       "1       2\n",
       "2       1\n",
       "3       0\n",
       "4       0\n",
       "       ..\n",
       "5837    2\n",
       "5838    0\n",
       "5839    0\n",
       "5840    0\n",
       "5841    1\n",
       "Name: Sentiment, Length: 5842, dtype: int64"
      ]
     },
     "execution_count": 3,
     "metadata": {},
     "output_type": "execute_result"
    }
   ],
   "source": [
    "df['Sentiment'] = df['Sentiment'].replace({'neutral': 0, 'positive': 1,'negative':2})\n",
    "df['Sentiment']"
   ]
  },
  {
   "cell_type": "code",
   "execution_count": null,
   "id": "a467743b-d3fb-4bb3-8c12-f635a432f83c",
   "metadata": {},
   "outputs": [],
   "source": []
  },
  {
   "cell_type": "code",
   "execution_count": 4,
   "id": "39b026b6-474f-4469-a998-2025afc44418",
   "metadata": {},
   "outputs": [
    {
     "data": {
      "text/html": [
       "<div>\n",
       "<style scoped>\n",
       "    .dataframe tbody tr th:only-of-type {\n",
       "        vertical-align: middle;\n",
       "    }\n",
       "\n",
       "    .dataframe tbody tr th {\n",
       "        vertical-align: top;\n",
       "    }\n",
       "\n",
       "    .dataframe thead th {\n",
       "        text-align: right;\n",
       "    }\n",
       "</style>\n",
       "<table border=\"1\" class=\"dataframe\">\n",
       "  <thead>\n",
       "    <tr style=\"text-align: right;\">\n",
       "      <th></th>\n",
       "      <th>Sentence</th>\n",
       "      <th>Sentiment</th>\n",
       "    </tr>\n",
       "  </thead>\n",
       "  <tbody>\n",
       "    <tr>\n",
       "      <th>0</th>\n",
       "      <td>The GeoSolutions technology will leverage Bene...</td>\n",
       "      <td>1</td>\n",
       "    </tr>\n",
       "    <tr>\n",
       "      <th>1</th>\n",
       "      <td>$ESI on lows, down $1.50 to $2.50 BK a real po...</td>\n",
       "      <td>2</td>\n",
       "    </tr>\n",
       "    <tr>\n",
       "      <th>2</th>\n",
       "      <td>For the last quarter of 2010 , Componenta 's n...</td>\n",
       "      <td>1</td>\n",
       "    </tr>\n",
       "    <tr>\n",
       "      <th>3</th>\n",
       "      <td>According to the Finnish-Russian Chamber of Co...</td>\n",
       "      <td>0</td>\n",
       "    </tr>\n",
       "    <tr>\n",
       "      <th>4</th>\n",
       "      <td>The Swedish buyout firm has sold its remaining...</td>\n",
       "      <td>0</td>\n",
       "    </tr>\n",
       "    <tr>\n",
       "      <th>...</th>\n",
       "      <td>...</td>\n",
       "      <td>...</td>\n",
       "    </tr>\n",
       "    <tr>\n",
       "      <th>5837</th>\n",
       "      <td>RISING costs have forced packaging producer Hu...</td>\n",
       "      <td>2</td>\n",
       "    </tr>\n",
       "    <tr>\n",
       "      <th>5838</th>\n",
       "      <td>Nordic Walking was first used as a summer trai...</td>\n",
       "      <td>0</td>\n",
       "    </tr>\n",
       "    <tr>\n",
       "      <th>5839</th>\n",
       "      <td>According shipping company Viking Line , the E...</td>\n",
       "      <td>0</td>\n",
       "    </tr>\n",
       "    <tr>\n",
       "      <th>5840</th>\n",
       "      <td>In the building and home improvement trade , s...</td>\n",
       "      <td>0</td>\n",
       "    </tr>\n",
       "    <tr>\n",
       "      <th>5841</th>\n",
       "      <td>HELSINKI AFX - KCI Konecranes said it has won ...</td>\n",
       "      <td>1</td>\n",
       "    </tr>\n",
       "  </tbody>\n",
       "</table>\n",
       "<p>5842 rows × 2 columns</p>\n",
       "</div>"
      ],
      "text/plain": [
       "                                               Sentence  Sentiment\n",
       "0     The GeoSolutions technology will leverage Bene...          1\n",
       "1     $ESI on lows, down $1.50 to $2.50 BK a real po...          2\n",
       "2     For the last quarter of 2010 , Componenta 's n...          1\n",
       "3     According to the Finnish-Russian Chamber of Co...          0\n",
       "4     The Swedish buyout firm has sold its remaining...          0\n",
       "...                                                 ...        ...\n",
       "5837  RISING costs have forced packaging producer Hu...          2\n",
       "5838  Nordic Walking was first used as a summer trai...          0\n",
       "5839  According shipping company Viking Line , the E...          0\n",
       "5840  In the building and home improvement trade , s...          0\n",
       "5841  HELSINKI AFX - KCI Konecranes said it has won ...          1\n",
       "\n",
       "[5842 rows x 2 columns]"
      ]
     },
     "execution_count": 4,
     "metadata": {},
     "output_type": "execute_result"
    }
   ],
   "source": [
    "df\n",
    "#  positive = 1, neutral = 0, negative = 2\n",
    "\n"
   ]
  },
  {
   "cell_type": "code",
   "execution_count": 5,
   "id": "afa04507-9052-4bc0-a425-d0a218530000",
   "metadata": {},
   "outputs": [
    {
     "data": {
      "text/plain": [
       "Sentiment\n",
       "0    3130\n",
       "1    1852\n",
       "2     860\n",
       "Name: count, dtype: int64"
      ]
     },
     "execution_count": 5,
     "metadata": {},
     "output_type": "execute_result"
    }
   ],
   "source": [
    "df['Sentiment'].value_counts()"
   ]
  },
  {
   "cell_type": "code",
   "execution_count": 6,
   "id": "c5705e22-37ae-4a7f-be32-fc6e74f61740",
   "metadata": {},
   "outputs": [],
   "source": [
    "import re\n",
    "import nltk\n",
    "from bs4 import BeautifulSoup\n",
    "from nltk.corpus import stopwords"
   ]
  },
  {
   "cell_type": "code",
   "execution_count": 7,
   "id": "b5d1f4d9-271c-4474-b51d-1f998664ed5a",
   "metadata": {},
   "outputs": [
    {
     "data": {
      "text/html": [
       "<div>\n",
       "<style scoped>\n",
       "    .dataframe tbody tr th:only-of-type {\n",
       "        vertical-align: middle;\n",
       "    }\n",
       "\n",
       "    .dataframe tbody tr th {\n",
       "        vertical-align: top;\n",
       "    }\n",
       "\n",
       "    .dataframe thead th {\n",
       "        text-align: right;\n",
       "    }\n",
       "</style>\n",
       "<table border=\"1\" class=\"dataframe\">\n",
       "  <thead>\n",
       "    <tr style=\"text-align: right;\">\n",
       "      <th></th>\n",
       "      <th>Sentence</th>\n",
       "      <th>Sentiment</th>\n",
       "    </tr>\n",
       "  </thead>\n",
       "  <tbody>\n",
       "    <tr>\n",
       "      <th>0</th>\n",
       "      <td>geosolutions technology leverage benefon gps s...</td>\n",
       "      <td>1</td>\n",
       "    </tr>\n",
       "    <tr>\n",
       "      <th>1</th>\n",
       "      <td>esi lows 150 250 bk real possibility</td>\n",
       "      <td>2</td>\n",
       "    </tr>\n",
       "    <tr>\n",
       "      <th>2</th>\n",
       "      <td>last quarter 2010 componenta net sales doubled...</td>\n",
       "      <td>1</td>\n",
       "    </tr>\n",
       "    <tr>\n",
       "      <th>3</th>\n",
       "      <td>according finnishrussian chamber commerce majo...</td>\n",
       "      <td>0</td>\n",
       "    </tr>\n",
       "    <tr>\n",
       "      <th>4</th>\n",
       "      <td>swedish buyout firm sold remaining 224 percent...</td>\n",
       "      <td>0</td>\n",
       "    </tr>\n",
       "    <tr>\n",
       "      <th>...</th>\n",
       "      <td>...</td>\n",
       "      <td>...</td>\n",
       "    </tr>\n",
       "    <tr>\n",
       "      <th>5837</th>\n",
       "      <td>rising costs forced packaging producer huhtama...</td>\n",
       "      <td>2</td>\n",
       "    </tr>\n",
       "    <tr>\n",
       "      <th>5838</th>\n",
       "      <td>nordic walking first used summer training meth...</td>\n",
       "      <td>0</td>\n",
       "    </tr>\n",
       "    <tr>\n",
       "      <th>5839</th>\n",
       "      <td>according shipping company viking line eu deci...</td>\n",
       "      <td>0</td>\n",
       "    </tr>\n",
       "    <tr>\n",
       "      <th>5840</th>\n",
       "      <td>building home improvement trade sales decrease...</td>\n",
       "      <td>0</td>\n",
       "    </tr>\n",
       "    <tr>\n",
       "      <th>5841</th>\n",
       "      <td>helsinki afx kci konecranes said order four ho...</td>\n",
       "      <td>1</td>\n",
       "    </tr>\n",
       "  </tbody>\n",
       "</table>\n",
       "<p>5842 rows × 2 columns</p>\n",
       "</div>"
      ],
      "text/plain": [
       "                                               Sentence  Sentiment\n",
       "0     geosolutions technology leverage benefon gps s...          1\n",
       "1                  esi lows 150 250 bk real possibility          2\n",
       "2     last quarter 2010 componenta net sales doubled...          1\n",
       "3     according finnishrussian chamber commerce majo...          0\n",
       "4     swedish buyout firm sold remaining 224 percent...          0\n",
       "...                                                 ...        ...\n",
       "5837  rising costs forced packaging producer huhtama...          2\n",
       "5838  nordic walking first used summer training meth...          0\n",
       "5839  according shipping company viking line eu deci...          0\n",
       "5840  building home improvement trade sales decrease...          0\n",
       "5841  helsinki afx kci konecranes said order four ho...          1\n",
       "\n",
       "[5842 rows x 2 columns]"
      ]
     },
     "execution_count": 7,
     "metadata": {},
     "output_type": "execute_result"
    }
   ],
   "source": [
    "df['Sentence'] = df['Sentence'].str.lower()\n",
    "\n",
    "df['Sentence'] = df['Sentence'].apply(lambda x: re.sub('[^a-z A-Z 0-9]','',x))\n",
    "\n",
    "df['Sentence'] = df['Sentence'].apply(lambda x: \" \".join([y for y in x.split() if y not in stopwords.words('english')]))\n",
    "\n",
    "df['Sentence'] = df['Sentence'].apply(lambda x: re.sub(r'(http|https|ftp|ssh)://([\\w_-]+(?:(?:\\.[\\w_-]+)+))([\\w.,@?^=%&:/~+#-]*[\\w@?^=%&/~+#-])?', \n",
    "                                                         '' , str(x)))\n",
    "\n",
    "df['Sentence'] = df['Sentence'].apply(lambda x: BeautifulSoup(x,'lxml').get_text())\n",
    "\n",
    "df['Sentence'] = df['Sentence'].apply(lambda x: \" \".join(x.split()))\n",
    "\n",
    "df"
   ]
  },
  {
   "cell_type": "code",
   "execution_count": null,
   "id": "2f24a338-6a17-4980-a5f1-683fc57a4528",
   "metadata": {},
   "outputs": [],
   "source": []
  },
  {
   "cell_type": "code",
   "execution_count": 8,
   "id": "908071d5-3571-4b6c-a12f-ff2a21f98c59",
   "metadata": {},
   "outputs": [],
   "source": [
    "#from nltk.stem import WordNetLemmatizer\n",
    "#lem = WordNetLemmatizer()\n",
    "\n",
    "#def lemmetizer(text):\n",
    "    #return \" \".join([lem.lemmatize(word) for word in text.split()])"
   ]
  },
  {
   "cell_type": "code",
   "execution_count": 9,
   "id": "5c4625f4-cee0-4e11-8595-853596ad64ab",
   "metadata": {},
   "outputs": [],
   "source": [
    "#df['Sent'] = df['Sentence'].apply(lambda x: lemmetizer(x))\n",
    "\n",
    "#df['Sent']"
   ]
  },
  {
   "cell_type": "code",
   "execution_count": 10,
   "id": "825e70ca-1491-4def-8199-f97ecdc4dcb4",
   "metadata": {},
   "outputs": [],
   "source": [
    "from nltk.stem import SnowballStemmer\n",
    "\n",
    "st = SnowballStemmer(language = 'english')"
   ]
  },
  {
   "cell_type": "code",
   "execution_count": 11,
   "id": "d21862ef-f5a4-4eb0-a5b8-28eb6473ef3d",
   "metadata": {},
   "outputs": [],
   "source": [
    "def stem(text):\n",
    "    return \" \".join([st.stem(word) for word in text.split()])"
   ]
  },
  {
   "cell_type": "code",
   "execution_count": 12,
   "id": "cba5a6e3-05ea-4317-809c-c4dfe696a283",
   "metadata": {},
   "outputs": [
    {
     "data": {
      "text/plain": [
       "0       geosolut technolog leverag benefon gps solut p...\n",
       "1                         esi low 150 250 bk real possibl\n",
       "2       last quarter 2010 componenta net sale doubl eu...\n",
       "3       accord finnishrussian chamber commerc major co...\n",
       "4       swedish buyout firm sold remain 224 percent st...\n",
       "                              ...                        \n",
       "5837    rise cost forc packag produc huhtamaki axe 90 ...\n",
       "5838    nordic walk first use summer train method cros...\n",
       "5839    accord ship compani vike line eu decis signifi...\n",
       "5840    build home improv trade sale decreas 225 eur 2...\n",
       "5841    helsinki afx kci konecran said order four hot ...\n",
       "Name: Sent, Length: 5842, dtype: object"
      ]
     },
     "execution_count": 12,
     "metadata": {},
     "output_type": "execute_result"
    }
   ],
   "source": [
    "df['Sent'] = df['Sentence'].apply(lambda x: stem(x))\n",
    "\n",
    "df['Sent']"
   ]
  },
  {
   "cell_type": "code",
   "execution_count": 13,
   "id": "168e1295-b002-423a-8480-c78284f158ca",
   "metadata": {},
   "outputs": [
    {
     "data": {
      "text/plain": [
       "0       geosolutions technology leverage benefon gps s...\n",
       "1                    esi lows 150 250 bk real possibility\n",
       "2       last quarter 2010 componenta net sales doubled...\n",
       "3       according finnishrussian chamber commerce majo...\n",
       "4       swedish buyout firm sold remaining 224 percent...\n",
       "                              ...                        \n",
       "5837    rising costs forced packaging producer huhtama...\n",
       "5838    nordic walking first used summer training meth...\n",
       "5839    according shipping company viking line eu deci...\n",
       "5840    building home improvement trade sales decrease...\n",
       "5841    helsinki afx kci konecranes said order four ho...\n",
       "Name: Sentence, Length: 5842, dtype: object"
      ]
     },
     "execution_count": 13,
     "metadata": {},
     "output_type": "execute_result"
    }
   ],
   "source": [
    "df['Sentence']\n"
   ]
  },
  {
   "cell_type": "markdown",
   "id": "2c76d9ef-d92c-4f34-bd12-2fde0b38d27d",
   "metadata": {},
   "source": [
    "## Training the dataset"
   ]
  },
  {
   "cell_type": "code",
   "execution_count": 14,
   "id": "18d4f3b4-69bd-405a-8cd4-4e4b942adc1e",
   "metadata": {},
   "outputs": [],
   "source": [
    "from sklearn.model_selection import train_test_split\n",
    "x_train,x_test,y_train,y_test = train_test_split(df['Sent'],df['Sentiment'],test_size = 0.2)"
   ]
  },
  {
   "cell_type": "markdown",
   "id": "009b0a8a-a12e-4f17-b6f7-93e2f3cb3389",
   "metadata": {},
   "source": [
    "## Bag of words"
   ]
  },
  {
   "cell_type": "code",
   "execution_count": 15,
   "id": "b0fce2d7-2fda-4ab2-a296-7a21ed20de8f",
   "metadata": {},
   "outputs": [],
   "source": [
    "from sklearn.feature_extraction.text import CountVectorizer\n",
    "bow = CountVectorizer()\n",
    "x_train_bow = bow.fit_transform(x_train).toarray()\n",
    "x_test_bow = bow.transform(x_test).toarray()"
   ]
  },
  {
   "cell_type": "markdown",
   "id": "ea729024-ef07-4eba-b2b8-c63ee9c209ef",
   "metadata": {},
   "source": [
    "## Tf-idf"
   ]
  },
  {
   "cell_type": "code",
   "execution_count": 16,
   "id": "d785ba08-a3fa-4864-be30-c93dd3e7ede4",
   "metadata": {},
   "outputs": [],
   "source": [
    "from sklearn.feature_extraction.text import TfidfVectorizer\n",
    "tfidf = TfidfVectorizer()\n",
    "x_train_tfidf = tfidf.fit_transform(x_train).toarray()\n",
    "x_test_tfidf = tfidf.transform(x_test).toarray()"
   ]
  },
  {
   "cell_type": "markdown",
   "id": "bc5048e1-8a1a-4fec-9f78-cfdf1827df96",
   "metadata": {},
   "source": [
    "## Multinomial naive bayes"
   ]
  },
  {
   "cell_type": "code",
   "execution_count": 17,
   "id": "13fa591e-e6db-42dc-bbbf-b30bf477b7a4",
   "metadata": {},
   "outputs": [],
   "source": [
    "from sklearn.naive_bayes import MultinomialNB\n",
    "\n",
    "model_bow = MultinomialNB().fit(x_train_bow,y_train)\n",
    "model_tfidf = MultinomialNB().fit(x_train_tfidf,y_train)"
   ]
  },
  {
   "cell_type": "code",
   "execution_count": 18,
   "id": "f5cd14e4-c51a-4e86-a4c5-2bde233c3f2f",
   "metadata": {},
   "outputs": [],
   "source": [
    "from sklearn.metrics import classification_report,accuracy_score\n",
    "\n",
    "y_pred_bow=model_bow.predict(x_test_bow)\n",
    "y_pred_tfidf = model_tfidf.predict(x_test_tfidf)"
   ]
  },
  {
   "cell_type": "code",
   "execution_count": 19,
   "id": "1ecabf28-b45c-4167-a5b2-4169623790df",
   "metadata": {},
   "outputs": [
    {
     "name": "stdout",
     "output_type": "stream",
     "text": [
      "Accuracy using bag of word is 69.46107784431138 %\n",
      "Accuracy using Tf-idf is 66.9803250641574 %\n"
     ]
    }
   ],
   "source": [
    "print('Accuracy using bag of word is',accuracy_score(y_test,y_pred_bow)*100,'%')\n",
    "print('Accuracy using Tf-idf is',accuracy_score(y_test,y_pred_tfidf)*100,'%')"
   ]
  },
  {
   "cell_type": "code",
   "execution_count": 20,
   "id": "5a6380b3-e1b2-43b0-b628-6474ebed8a06",
   "metadata": {},
   "outputs": [
    {
     "name": "stdout",
     "output_type": "stream",
     "text": [
      "<sklearn.metrics._plot.confusion_matrix.ConfusionMatrixDisplay object at 0x00000246ABE842C0>\n"
     ]
    },
    {
     "data": {
      "image/png": "[encoded data removed]",
      "text/plain": [
       "<Figure size 640x480 with 2 Axes>"
      ]
     },
     "metadata": {},
     "output_type": "display_data"
    }
   ],
   "source": [
    "print(metrics.ConfusionMatrixDisplay.from_predictions(y_pred_bow,y_test))"
   ]
  },
  {
   "cell_type": "markdown",
   "id": "b48eec5e-c226-4f5a-8fd0-4e733f87099d",
   "metadata": {},
   "source": [
    "## Randomforest classifier"
   ]
  },
  {
   "cell_type": "code",
   "execution_count": 21,
   "id": "fa2cfdaa-b500-431a-a714-e63b0a59c564",
   "metadata": {},
   "outputs": [],
   "source": [
    "from sklearn.ensemble import RandomForestClassifier\n",
    "clas_tfidf = RandomForestClassifier().fit(x_train_tfidf,y_train)\n",
    "clas_bow = RandomForestClassifier().fit(x_train_bow,y_train)"
   ]
  },
  {
   "cell_type": "code",
   "execution_count": 22,
   "id": "6115e97a-d52c-4f73-a383-9bac6fc68617",
   "metadata": {},
   "outputs": [],
   "source": [
    "y_predi_bow = clas_bow.predict(x_test_bow)\n",
    "y_predi_tfidf = clas_tfidf.predict(x_test_tfidf)"
   ]
  },
  {
   "cell_type": "code",
   "execution_count": 23,
   "id": "b90ab3fb-24f2-40cc-b6b4-ac31f9550275",
   "metadata": {},
   "outputs": [
    {
     "name": "stdout",
     "output_type": "stream",
     "text": [
      "Accuracy using bag of word is 65.35500427715996 %\n",
      "Accuracy using Tf-idf is 66.38152266894782 %\n"
     ]
    }
   ],
   "source": [
    "print('Accuracy using bag of word is',accuracy_score(y_test,y_predi_bow)*100,'%')\n",
    "print('Accuracy using Tf-idf is',accuracy_score(y_test,y_predi_tfidf)*100,'%')"
   ]
  },
  {
   "cell_type": "markdown",
   "id": "5b853be5-8c31-4d71-b682-ac6f4f6d2b89",
   "metadata": {},
   "source": [
    "## Logistic Regression"
   ]
  },
  {
   "cell_type": "code",
   "execution_count": 41,
   "id": "5cda3317-2b1d-4043-8a72-bfb736ec1c0e",
   "metadata": {},
   "outputs": [],
   "source": [
    "from sklearn.linear_model import LogisticRegression"
   ]
  },
  {
   "cell_type": "code",
   "execution_count": 42,
   "id": "20a040ed-508a-4d70-bfcb-9f0da674a59d",
   "metadata": {},
   "outputs": [],
   "source": [
    "reg_bow = LogisticRegression().fit(x_train_bow,y_train)\n",
    "reg_tfidf = LogisticRegression().fit(x_train_tfidf,y_train)"
   ]
  },
  {
   "cell_type": "code",
   "execution_count": 43,
   "id": "18dfa88f-c6f8-43b2-9d04-93ed377a2cb4",
   "metadata": {},
   "outputs": [],
   "source": [
    "y_pred_bow_reg = reg_bow.predict(x_test_bow)\n",
    "y_pred_tfidf_reg = reg_tfidf.predict(x_test_tfidf)\n"
   ]
  },
  {
   "cell_type": "code",
   "execution_count": 44,
   "id": "72f44ec7-e641-400b-aff1-28e99bb52f88",
   "metadata": {},
   "outputs": [
    {
     "name": "stdout",
     "output_type": "stream",
     "text": [
      "Accuracy using bag of word is 66.2104362703165 %\n",
      "Accuracy using Tf-idf is 70.91531223267751 %\n"
     ]
    }
   ],
   "source": [
    "print('Accuracy using bag of word is',accuracy_score(y_test,y_pred_bow_reg)*100,'%')\n",
    "print('Accuracy using Tf-idf is',accuracy_score(y_test,y_pred_tfidf_reg)*100,'%')\n"
   ]
  },
  {
   "cell_type": "code",
   "execution_count": 45,
   "id": "c5e0d3c2-c314-4633-94ae-a320583ac65d",
   "metadata": {},
   "outputs": [
    {
     "name": "stdout",
     "output_type": "stream",
     "text": [
      "<sklearn.metrics._plot.confusion_matrix.ConfusionMatrixDisplay object at 0x000002471DB69A60>\n"
     ]
    },
    {
     "data": {
      "image/png": "[encoded data removed]",
      "text/plain": [
       "<Figure size 640x480 with 2 Axes>"
      ]
     },
     "metadata": {},
     "output_type": "display_data"
    }
   ],
   "source": [
    "print(metrics.ConfusionMatrixDisplay.from_predictions(y_pred_tfidf_reg,y_test))"
   ]
  },
  {
   "cell_type": "markdown",
   "id": "119e5054-dbbb-4f38-b05d-ae49944c2e54",
   "metadata": {},
   "source": [
    "## XGboost"
   ]
  },
  {
   "cell_type": "code",
   "execution_count": 56,
   "id": "8451a29f-56b6-4041-8a09-cef5a9af3658",
   "metadata": {},
   "outputs": [],
   "source": [
    "from xgboost import XGBClassifier"
   ]
  },
  {
   "cell_type": "code",
   "execution_count": 57,
   "id": "03a22b66-cbc6-4f16-8e59-6de8d1075c5e",
   "metadata": {},
   "outputs": [],
   "source": [
    "xg_bow = XGBClassifier().fit(x_train_bow,y_train) \n",
    "xg_tfidf = XGBClassifier().fit(x_train_tfidf,y_train)"
   ]
  },
  {
   "cell_type": "code",
   "execution_count": 59,
   "id": "5aadcb58-62ab-4521-b852-8383524531c5",
   "metadata": {},
   "outputs": [],
   "source": [
    "y_pred_bow_xg = xg_bow.predict(x_test_bow)\n",
    "y_pred_tfidf_xg = xg_tfidf.predict(x_test_tfidf)"
   ]
  },
  {
   "cell_type": "code",
   "execution_count": 60,
   "id": "70a36e0a-5ff8-4123-8865-01f7f22119ce",
   "metadata": {},
   "outputs": [
    {
     "name": "stdout",
     "output_type": "stream",
     "text": [
      "0.688622754491018\n",
      "0.6800684345594525\n"
     ]
    }
   ],
   "source": [
    "print(accuracy_score(y_test,y_pred_bow_xg))\n",
    "print(accuracy_score(y_test,y_pred_tfidf_xg))"
   ]
  },
  {
   "cell_type": "code",
   "execution_count": null,
   "id": "36d9a42e-dee2-4674-adf5-e016e6d7126c",
   "metadata": {},
   "outputs": [],
   "source": []
  },
  {
   "cell_type": "markdown",
   "id": "cf01cb5a-ed9a-423c-ac28-253e97534b89",
   "metadata": {},
   "source": [
    "## ADAboost"
   ]
  },
  {
   "cell_type": "code",
   "execution_count": 71,
   "id": "61c1775e-ca1c-4716-ae2a-cb67ddf68e5d",
   "metadata": {},
   "outputs": [],
   "source": [
    "from sklearn.ensemble import AdaBoostClassifier"
   ]
  },
  {
   "cell_type": "code",
   "execution_count": null,
   "id": "724aa04c-1c15-4647-9504-55d2222d5069",
   "metadata": {},
   "outputs": [
    {
     "name": "stderr",
     "output_type": "stream",
     "text": [
      "C:\\Users\\Mihit\\AppData\\Local\\Programs\\Python\\Python312\\Lib\\site-packages\\sklearn\\ensemble\\_weight_boosting.py:527: FutureWarning: The SAMME.R algorithm (the default) is deprecated and will be removed in 1.6. Use the SAMME algorithm to circumvent this warning.\n",
      "  warnings.warn(\n"
     ]
    }
   ],
   "source": [
    "ada_bow = AdaBoostClassifier(n_estimators = 500).fit(x_train_bow,y_train)\n",
    "#ada_tfidf = AdaBoostClassifier(n_estimators = 100,learning_rate = 1).fit(x_train_tfidf, y_train)"
   ]
  },
  {
   "cell_type": "code",
   "execution_count": 73,
   "id": "6fde34cb-f0c3-45fb-8518-5a8a66784115",
   "metadata": {},
   "outputs": [],
   "source": [
    "y_pred_bow_ada = ada_bow.predict(x_test_bow)\n",
    "#y_pred_tfidf_ada = ada_tfidf.predict(x_test_tfidf)"
   ]
  },
  {
   "cell_type": "code",
   "execution_count": 74,
   "id": "4fbaa402-de65-49e2-9f1f-b26011d556b9",
   "metadata": {},
   "outputs": [
    {
     "name": "stdout",
     "output_type": "stream",
     "text": [
      "0.6809238665526091\n"
     ]
    }
   ],
   "source": [
    "print(accuracy_score(y_test,y_pred_bow_ada))\n",
    "#print(accuracy_score(y_test,y_pred_tfidf_ada))"
   ]
  },
  {
   "cell_type": "code",
   "execution_count": null,
   "id": "c406a0d6-7e37-4e0b-a1ae-4fc5a99a0db3",
   "metadata": {},
   "outputs": [],
   "source": [
    "y_pred_bow_data"
   ]
  },
  {
   "cell_type": "markdown",
   "id": "77fdf09c-5430-4088-9dc5-25f94dd77823",
   "metadata": {},
   "source": [
    "## Support vector machine"
   ]
  },
  {
   "cell_type": "code",
   "execution_count": 54,
   "id": "93920dd5-a649-4973-af8e-737125223362",
   "metadata": {},
   "outputs": [],
   "source": [
    "from sklearn.svm import SVC"
   ]
  },
  {
   "cell_type": "code",
   "execution_count": null,
   "id": "89f212b6-ac3f-4a60-8e7b-35f84c631345",
   "metadata": {},
   "outputs": [],
   "source": [
    "svm_bow = SVC().fit(x_train_bow,y_train)\n",
    "svm_tfidf = SVC().fit(x_train_tfidf,y_train)"
   ]
  },
  {
   "cell_type": "code",
   "execution_count": 32,
   "id": "597e46c3-aea2-4f48-9b8a-1b6796df29fa",
   "metadata": {},
   "outputs": [],
   "source": [
    "y_pred_bow_svm = svm_bow.predict(x_test_bow)\n",
    "y_pred_tfidf_svm = svm_tfidf.predict(x_test_tfidf)\n"
   ]
  },
  {
   "cell_type": "code",
   "execution_count": 33,
   "id": "46f023a0-262c-443a-ac13-355b4f15e45c",
   "metadata": {},
   "outputs": [
    {
     "name": "stdout",
     "output_type": "stream",
     "text": [
      "Accuracy using bag of word is 65.86826347305389 %\n",
      "Accuracy using Tf-idf is 64.07185628742515 %\n"
     ]
    }
   ],
   "source": [
    "print('Accuracy using bag of word is',accuracy_score(y_test,y_pred_bow_svm)*100,'%')\n",
    "print('Accuracy using Tf-idf is',accuracy_score(y_test,y_pred_tfidf_svm)*100,'%')"
   ]
  },
  {
   "cell_type": "code",
   "execution_count": null,
   "id": "683fb422-c769-4854-8c25-74f0a9c60049",
   "metadata": {},
   "outputs": [],
   "source": []
  },
  {
   "cell_type": "markdown",
   "id": "5147e67b-1a7d-4cfa-9c70-680fae1fd837",
   "metadata": {},
   "source": [
    "## below code is for reduce length of independent variable to make same length as dataframe"
   ]
  },
  {
   "cell_type": "code",
   "execution_count": 304,
   "id": "84ca18e8-d853-458d-bd43-0eed77c5215e",
   "metadata": {},
   "outputs": [],
   "source": [
    "y = df[list(map(lambda x: len(x)>0 ,corpus))]\n",
    "y=pd.get_dummies(y['Sentiment'])\n",
    "y=y.iloc[:,0].values\n"
   ]
  },
  {
   "cell_type": "code",
   "execution_count": null,
   "id": "7f34334c-25fd-42ed-980b-f0c591a716b7",
   "metadata": {},
   "outputs": [],
   "source": [
    "df1['output'] = y"
   ]
  },
  {
   "cell_type": "code",
   "execution_count": null,
   "id": "098b4352-2eb0-46c3-85dc-d4194ebc4db1",
   "metadata": {},
   "outputs": [],
   "source": []
  },
  {
   "cell_type": "code",
   "execution_count": null,
   "id": "bf2bc148-8fa3-4a75-914b-8cdf66d754f0",
   "metadata": {
    "scrolled": true
   },
   "outputs": [],
   "source": []
  },
  {
   "cell_type": "code",
   "execution_count": 315,
   "id": "eba9d28b-79b4-4060-9ed6-b89ab76e67ce",
   "metadata": {},
   "outputs": [],
   "source": [
    "import sys\n",
    "import numpy\n",
    "numpy.set_printoptions(threshold=sys.maxsize)"
   ]
  }
 ],
 "metadata": {
  "kernelspec": {
   "display_name": "Python 3 (ipykernel)",
   "language": "python",
   "name": "python3"
  },
  "language_info": {
   "codemirror_mode": {
    "name": "ipython",
    "version": 3
   },
   "file_extension": ".py",
   "mimetype": "text/x-python",
   "name": "python",
   "nbconvert_exporter": "python",
   "pygments_lexer": "ipython3",
   "version": "3.12.1"
  }
 },
 "nbformat": 4,
 "nbformat_minor": 5
}
